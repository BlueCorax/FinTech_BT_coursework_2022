{
 "cells": [
  {
   "cell_type": "code",
   "execution_count": 102,
   "id": "361f5dc9",
   "metadata": {
    "scrolled": false
   },
   "outputs": [],
   "source": [
    "from IPython.display import clear_output\n",
    "import pandas as pd\n",
    "import pprint\n",
    "import PyPDF2 as pdf\n",
    "import random\n",
    "import re\n",
    "import requests\n",
    "import textract\n",
    "import uuid\n",
    "import time"
   ]
  },
  {
   "cell_type": "markdown",
   "id": "8056f1a6",
   "metadata": {},
   "source": [
    "# Config"
   ]
  },
  {
   "cell_type": "code",
   "execution_count": 90,
   "id": "786d1ef2",
   "metadata": {},
   "outputs": [],
   "source": [
    "data_directory = 'data/'\n",
    "prefix = 'out_'\n",
    "mock = False # Mock website connection"
   ]
  },
  {
   "cell_type": "markdown",
   "id": "d5fd8755",
   "metadata": {},
   "source": [
    "# Helper Functions"
   ]
  },
  {
   "cell_type": "code",
   "execution_count": 4,
   "id": "4119098f",
   "metadata": {},
   "outputs": [],
   "source": [
    "def extract_from_page(url, pattern):\n",
    "    headers = {\n",
    "        'accept': '*/*',\n",
    "        'accept-language': 'en,de-DE;q=0.9,de;q=0.8,en-US;q=0.7',\n",
    "        'user-agent': 'Mozilla/5.0 (Windows NT 10.0; Win64; x64) AppleWebKit/537.36 (KHTML, like Gecko) Brave Chrome/83.0.4103.116 Safari/537.36',\n",
    "    }\n",
    "    response = requests.get(url, headers=headers)\n",
    "    if response.status_code > 299:\n",
    "        print(f'Error extracting from {url}: Status {response.status_code} Reason {response.reason}')\n",
    "        return None\n",
    "    html = response.text\n",
    "    match = re.search(pattern, html)\n",
    "    if match:\n",
    "        return match.group(1)\n",
    "    else:\n",
    "        # print(f'Error extracting from {url}: No match found {pattern} in {html}')\n",
    "        return None"
   ]
  },
  {
   "cell_type": "code",
   "execution_count": 5,
   "id": "c3d39d1d",
   "metadata": {},
   "outputs": [],
   "source": [
    "def get_name(ticker):\n",
    "    if mock:\n",
    "        return \"Mocked Company Name\"\n",
    "    # Try barchart\n",
    "    barchart_result = extract_from_page(f'https://www.barchart.com/stocks/quotes/{ticker}/overview', \n",
    "                                        '<span class=\"symbol\">([^<]+)</span>')\n",
    "    if barchart_result:\n",
    "        return barchart_result\n",
    "    \n",
    "    # Try yahoo\n",
    "    yahoo_result =  extract_from_page(f'https://finance.yahoo.com/quote/{ticker}', \n",
    "                                        '<h1 class=\"D\\(ib\\) Fz\\(18px\\)\">([^<]+) \\([A-Z]+\\)\\</h1>')\n",
    "    if barchart_result:\n",
    "        return barchart_result\n",
    "    \n",
    "    # if still no result try marketwatch (takes around 10s)\n",
    "    marketwatch_result = extract_from_page(f'https://www.marketwatch.com/investing/stock/{ticker}',\n",
    "                                           '.*<h1 class=\"company__name\">([^<]+)</h1>.*')\n",
    "    \n",
    "    if marketwatch_result:\n",
    "        return marketwatch_result\n",
    "    else:\n",
    "        print(f'Invalid ticker: {ticker}')\n"
   ]
  },
  {
   "cell_type": "code",
   "execution_count": 91,
   "id": "a3365e3f",
   "metadata": {
    "scrolled": false
   },
   "outputs": [
    {
     "data": {
      "text/plain": [
       "'Tesla Inc'"
      ]
     },
     "execution_count": 91,
     "metadata": {},
     "output_type": "execute_result"
    }
   ],
   "source": [
    "extract_from_page(f'https://www.barchart.com/stocks/quotes/TSLA/overview', \n",
    "                                        '<span class=\"symbol\">([^<]+)</span>')"
   ]
  },
  {
   "cell_type": "code",
   "execution_count": 92,
   "id": "28448534",
   "metadata": {},
   "outputs": [
    {
     "data": {
      "text/plain": [
       "'Tesla, Inc.'"
      ]
     },
     "execution_count": 92,
     "metadata": {},
     "output_type": "execute_result"
    }
   ],
   "source": [
    "extract_from_page(f'https://finance.yahoo.com/quote/TSLA', \n",
    "                                        '<h1 class=\"D\\(ib\\) Fz\\(18px\\)\">([^<]+) \\([A-Z]+\\)\\</h1>')"
   ]
  },
  {
   "cell_type": "code",
   "execution_count": 93,
   "id": "b20e82fc",
   "metadata": {},
   "outputs": [
    {
     "data": {
      "text/plain": [
       "'Tesla Inc.'"
      ]
     },
     "execution_count": 93,
     "metadata": {},
     "output_type": "execute_result"
    }
   ],
   "source": [
    "extract_from_page(f'https://www.marketwatch.com/investing/stock/TSLA',\n",
    "                                           '.*<h1 class=\"company__name\">([^<]+)</h1>.*')"
   ]
  },
  {
   "cell_type": "code",
   "execution_count": 94,
   "id": "828895c8",
   "metadata": {},
   "outputs": [],
   "source": [
    "def get_exchange_online(ticker):\n",
    "    if mock:\n",
    "        return \"Mock Exchange\"\n",
    "    \n",
    "    exchange_alias = {\n",
    "        'NYSE': 'New York Stock Exchange Inc.'\n",
    "    }\n",
    "    # Try barchart\n",
    "    barchart_result = extract_from_page(f'https://www.barchart.com/stocks/quotes/{ticker}/overview', \n",
    "                                        '<span class=\"symbol-trade-time\">\\[([^\\]]+)\\]<\\/span>')\n",
    "    if barchart_result:\n",
    "        exchange = barchart_result\n",
    "    else:\n",
    "        print(f'No exchange found for: {ticker}')\n",
    "        return\n",
    "    if exchange in exchange_alias:\n",
    "        return exchange_alias[exchange]\n",
    "    else:\n",
    "        return exchange"
   ]
  },
  {
   "cell_type": "code",
   "execution_count": 95,
   "id": "6c219c7f",
   "metadata": {},
   "outputs": [
    {
     "data": {
      "text/plain": [
       "'New York Stock Exchange Inc.'"
      ]
     },
     "execution_count": 95,
     "metadata": {},
     "output_type": "execute_result"
    }
   ],
   "source": [
    "get_exchange_online('KO')"
   ]
  },
  {
   "cell_type": "code",
   "execution_count": 96,
   "id": "0715b0ac",
   "metadata": {},
   "outputs": [
    {
     "data": {
      "text/plain": [
       "'NASDAQ'"
      ]
     },
     "execution_count": 96,
     "metadata": {},
     "output_type": "execute_result"
    }
   ],
   "source": [
    "get_exchange_online('TSLA')"
   ]
  },
  {
   "cell_type": "code",
   "execution_count": 103,
   "id": "1141b4bf",
   "metadata": {},
   "outputs": [],
   "source": [
    "def track_progress(function, arguments_list):\n",
    "    n = len(arguments_list)\n",
    "    return_values = []\n",
    "    for i, a in enumerate(arguments_list):\n",
    "        return_values.append(function(a))\n",
    "        clear_output(wait=True)\n",
    "        print( '%.2f' % (100*(i+1)/n), '% done', end='\\r',flush=True)\n",
    "    return return_values"
   ]
  },
  {
   "cell_type": "code",
   "execution_count": 105,
   "id": "f75f558f",
   "metadata": {},
   "outputs": [
    {
     "name": "stdout",
     "output_type": "stream",
     "text": [
      "100.00 % done\r"
     ]
    }
   ],
   "source": [
    "res = track_progress(lambda _: time.sleep(0.01), [i for i in range(100)])"
   ]
  },
  {
   "cell_type": "markdown",
   "id": "831b77df",
   "metadata": {},
   "source": [
    "# Type Tables"
   ]
  },
  {
   "cell_type": "code",
   "execution_count": 106,
   "id": "ac6fc0e2",
   "metadata": {},
   "outputs": [],
   "source": [
    "fi_types = ['stock', 'option', 'swap', 'future', 'forward', 'equity-linked security']"
   ]
  },
  {
   "cell_type": "code",
   "execution_count": 107,
   "id": "87605ee5",
   "metadata": {},
   "outputs": [
    {
     "data": {
      "text/html": [
       "<div>\n",
       "<style scoped>\n",
       "    .dataframe tbody tr th:only-of-type {\n",
       "        vertical-align: middle;\n",
       "    }\n",
       "\n",
       "    .dataframe tbody tr th {\n",
       "        vertical-align: top;\n",
       "    }\n",
       "\n",
       "    .dataframe thead th {\n",
       "        text-align: right;\n",
       "    }\n",
       "</style>\n",
       "<table border=\"1\" class=\"dataframe\">\n",
       "  <thead>\n",
       "    <tr style=\"text-align: right;\">\n",
       "      <th></th>\n",
       "      <th>mnemonic</th>\n",
       "    </tr>\n",
       "    <tr>\n",
       "      <th>fi_type_code</th>\n",
       "      <th></th>\n",
       "    </tr>\n",
       "  </thead>\n",
       "  <tbody>\n",
       "    <tr>\n",
       "      <th>0</th>\n",
       "      <td>stock</td>\n",
       "    </tr>\n",
       "    <tr>\n",
       "      <th>1</th>\n",
       "      <td>option</td>\n",
       "    </tr>\n",
       "    <tr>\n",
       "      <th>2</th>\n",
       "      <td>swap</td>\n",
       "    </tr>\n",
       "    <tr>\n",
       "      <th>3</th>\n",
       "      <td>future</td>\n",
       "    </tr>\n",
       "    <tr>\n",
       "      <th>4</th>\n",
       "      <td>forward</td>\n",
       "    </tr>\n",
       "    <tr>\n",
       "      <th>5</th>\n",
       "      <td>equity-linked security</td>\n",
       "    </tr>\n",
       "  </tbody>\n",
       "</table>\n",
       "</div>"
      ],
      "text/plain": [
       "                            mnemonic\n",
       "fi_type_code                        \n",
       "0                              stock\n",
       "1                             option\n",
       "2                               swap\n",
       "3                             future\n",
       "4                            forward\n",
       "5             equity-linked security"
      ]
     },
     "execution_count": 107,
     "metadata": {},
     "output_type": "execute_result"
    }
   ],
   "source": [
    "fi_types_df = pd.DataFrame(fi_types, columns = ['mnemonic'])\n",
    "fi_types_df.index.name = 'fi_type_code'\n",
    "fi_types_df"
   ]
  },
  {
   "cell_type": "code",
   "execution_count": 108,
   "id": "556fdef0",
   "metadata": {},
   "outputs": [],
   "source": [
    "fi_types_df.to_csv(f'{data_directory}{prefix}fi_type.csv', header=False)"
   ]
  },
  {
   "cell_type": "code",
   "execution_count": 109,
   "id": "a1fb937b",
   "metadata": {},
   "outputs": [],
   "source": [
    "option_styles = ['european', 'american', 'asian']"
   ]
  },
  {
   "cell_type": "code",
   "execution_count": 110,
   "id": "bcb3528d",
   "metadata": {},
   "outputs": [
    {
     "data": {
      "text/html": [
       "<div>\n",
       "<style scoped>\n",
       "    .dataframe tbody tr th:only-of-type {\n",
       "        vertical-align: middle;\n",
       "    }\n",
       "\n",
       "    .dataframe tbody tr th {\n",
       "        vertical-align: top;\n",
       "    }\n",
       "\n",
       "    .dataframe thead th {\n",
       "        text-align: right;\n",
       "    }\n",
       "</style>\n",
       "<table border=\"1\" class=\"dataframe\">\n",
       "  <thead>\n",
       "    <tr style=\"text-align: right;\">\n",
       "      <th></th>\n",
       "      <th>mnemonic</th>\n",
       "    </tr>\n",
       "    <tr>\n",
       "      <th>option_style_code</th>\n",
       "      <th></th>\n",
       "    </tr>\n",
       "  </thead>\n",
       "  <tbody>\n",
       "    <tr>\n",
       "      <th>0</th>\n",
       "      <td>european</td>\n",
       "    </tr>\n",
       "    <tr>\n",
       "      <th>1</th>\n",
       "      <td>american</td>\n",
       "    </tr>\n",
       "    <tr>\n",
       "      <th>2</th>\n",
       "      <td>asian</td>\n",
       "    </tr>\n",
       "  </tbody>\n",
       "</table>\n",
       "</div>"
      ],
      "text/plain": [
       "                   mnemonic\n",
       "option_style_code          \n",
       "0                  european\n",
       "1                  american\n",
       "2                     asian"
      ]
     },
     "execution_count": 110,
     "metadata": {},
     "output_type": "execute_result"
    }
   ],
   "source": [
    "option_styles_df = pd.DataFrame(option_styles, columns = ['mnemonic'])\n",
    "option_styles_df.index.name = 'option_style_code'\n",
    "option_styles_df"
   ]
  },
  {
   "cell_type": "code",
   "execution_count": 111,
   "id": "5207a9be",
   "metadata": {},
   "outputs": [],
   "source": [
    "option_styles_df.to_csv(f'{data_directory}{prefix}option_style.csv', header=False)"
   ]
  },
  {
   "cell_type": "markdown",
   "id": "87427fc9",
   "metadata": {},
   "source": [
    "# Trader"
   ]
  },
  {
   "cell_type": "code",
   "execution_count": 112,
   "id": "faf573b9",
   "metadata": {
    "scrolled": true
   },
   "outputs": [
    {
     "data": {
      "text/html": [
       "<div>\n",
       "<style scoped>\n",
       "    .dataframe tbody tr th:only-of-type {\n",
       "        vertical-align: middle;\n",
       "    }\n",
       "\n",
       "    .dataframe tbody tr th {\n",
       "        vertical-align: top;\n",
       "    }\n",
       "\n",
       "    .dataframe thead th {\n",
       "        text-align: right;\n",
       "    }\n",
       "</style>\n",
       "<table border=\"1\" class=\"dataframe\">\n",
       "  <thead>\n",
       "    <tr style=\"text-align: right;\">\n",
       "      <th></th>\n",
       "      <th>FIRST</th>\n",
       "      <th>LAST</th>\n",
       "      <th>NICKNAME</th>\n",
       "      <th>EMP-NO</th>\n",
       "      <th>2019 BONUS</th>\n",
       "      <th>2019 BASE</th>\n",
       "      <th>2019 TOTAL COMP</th>\n",
       "      <th>2019 PERFORMANCE</th>\n",
       "      <th>DECISION</th>\n",
       "    </tr>\n",
       "  </thead>\n",
       "  <tbody>\n",
       "    <tr>\n",
       "      <th>0</th>\n",
       "      <td>Madyson</td>\n",
       "      <td>Holden</td>\n",
       "      <td>Admiral</td>\n",
       "      <td>4234</td>\n",
       "      <td>248478</td>\n",
       "      <td>78490</td>\n",
       "      <td>326968</td>\n",
       "      <td>4</td>\n",
       "      <td>keep</td>\n",
       "    </tr>\n",
       "    <tr>\n",
       "      <th>1</th>\n",
       "      <td>Rowan</td>\n",
       "      <td>Owens</td>\n",
       "      <td>Amazon</td>\n",
       "      <td>2344</td>\n",
       "      <td>227649</td>\n",
       "      <td>3895</td>\n",
       "      <td>231544</td>\n",
       "      <td>7</td>\n",
       "      <td>keep</td>\n",
       "    </tr>\n",
       "    <tr>\n",
       "      <th>2</th>\n",
       "      <td>Bridger</td>\n",
       "      <td>Mcclain</td>\n",
       "      <td>Bean</td>\n",
       "      <td>2122</td>\n",
       "      <td>53720</td>\n",
       "      <td>84662</td>\n",
       "      <td>138382</td>\n",
       "      <td>5</td>\n",
       "      <td>keep</td>\n",
       "    </tr>\n",
       "    <tr>\n",
       "      <th>3</th>\n",
       "      <td>Maren</td>\n",
       "      <td>Adkins</td>\n",
       "      <td>Beast</td>\n",
       "      <td>3221</td>\n",
       "      <td>242405</td>\n",
       "      <td>90037</td>\n",
       "      <td>332442</td>\n",
       "      <td>2</td>\n",
       "      <td>FIRE</td>\n",
       "    </tr>\n",
       "    <tr>\n",
       "      <th>4</th>\n",
       "      <td>Amira</td>\n",
       "      <td>Colon</td>\n",
       "      <td>Big Nasty</td>\n",
       "      <td>2366</td>\n",
       "      <td>46265</td>\n",
       "      <td>77211</td>\n",
       "      <td>123476</td>\n",
       "      <td>6</td>\n",
       "      <td>keep</td>\n",
       "    </tr>\n",
       "  </tbody>\n",
       "</table>\n",
       "</div>"
      ],
      "text/plain": [
       "     FIRST     LAST       NICKNAME  EMP-NO  2019 BONUS  2019 BASE  \\\n",
       "0  Madyson   Holden        Admiral    4234      248478      78490   \n",
       "1    Rowan    Owens         Amazon    2344      227649       3895   \n",
       "2  Bridger  Mcclain           Bean    2122       53720      84662   \n",
       "3    Maren   Adkins          Beast    3221      242405      90037   \n",
       "4    Amira    Colon      Big Nasty    2366       46265      77211   \n",
       "\n",
       "   2019 TOTAL COMP  2019 PERFORMANCE  DECISION  \n",
       "0           326968                  4     keep  \n",
       "1           231544                  7     keep  \n",
       "2           138382                  5     keep  \n",
       "3           332442                  2     FIRE  \n",
       "4           123476                  6     keep  "
      ]
     },
     "execution_count": 112,
     "metadata": {},
     "output_type": "execute_result"
    }
   ],
   "source": [
    "in_trader_df = pd.read_csv(data_directory + '15153231.txt', delimiter = '\\t' )\n",
    "in_trader_df.head()"
   ]
  },
  {
   "cell_type": "markdown",
   "id": "d4997915",
   "metadata": {},
   "source": [
    "Pad employee id with zeroes to allow for more than 9999 employees (high ids indicate that an overflow is close):"
   ]
  },
  {
   "cell_type": "code",
   "execution_count": 113,
   "id": "5e05fdec",
   "metadata": {},
   "outputs": [],
   "source": [
    "in_trader_df['emp_id'] = [str(e).zfill(8) for e in in_trader_df['EMP-NO']]"
   ]
  },
  {
   "cell_type": "markdown",
   "id": "a9c4ac5f",
   "metadata": {},
   "source": [
    "Rename column to lowercase naming convention"
   ]
  },
  {
   "cell_type": "code",
   "execution_count": 114,
   "id": "580f1c91",
   "metadata": {},
   "outputs": [],
   "source": [
    "in_trader_df['nickname'] = in_trader_df['NICKNAME']"
   ]
  },
  {
   "cell_type": "markdown",
   "id": "a9e67ba0",
   "metadata": {},
   "source": [
    "Identify duplicate values, keep first occurence"
   ]
  },
  {
   "cell_type": "code",
   "execution_count": 115,
   "id": "6eb0489c",
   "metadata": {
    "scrolled": true
   },
   "outputs": [
    {
     "data": {
      "text/html": [
       "<div>\n",
       "<style scoped>\n",
       "    .dataframe tbody tr th:only-of-type {\n",
       "        vertical-align: middle;\n",
       "    }\n",
       "\n",
       "    .dataframe tbody tr th {\n",
       "        vertical-align: top;\n",
       "    }\n",
       "\n",
       "    .dataframe thead th {\n",
       "        text-align: right;\n",
       "    }\n",
       "</style>\n",
       "<table border=\"1\" class=\"dataframe\">\n",
       "  <thead>\n",
       "    <tr style=\"text-align: right;\">\n",
       "      <th></th>\n",
       "      <th>FIRST</th>\n",
       "      <th>LAST</th>\n",
       "      <th>NICKNAME</th>\n",
       "      <th>EMP-NO</th>\n",
       "      <th>2019 BONUS</th>\n",
       "      <th>2019 BASE</th>\n",
       "      <th>2019 TOTAL COMP</th>\n",
       "      <th>2019 PERFORMANCE</th>\n",
       "      <th>DECISION</th>\n",
       "      <th>emp_id</th>\n",
       "      <th>nickname</th>\n",
       "      <th>duplicated</th>\n",
       "    </tr>\n",
       "  </thead>\n",
       "  <tbody>\n",
       "    <tr>\n",
       "      <th>11</th>\n",
       "      <td>Sanai</td>\n",
       "      <td>Mccann</td>\n",
       "      <td>Chuckles</td>\n",
       "      <td>4234</td>\n",
       "      <td>65174</td>\n",
       "      <td>40579</td>\n",
       "      <td>105753</td>\n",
       "      <td>6</td>\n",
       "      <td>keep</td>\n",
       "      <td>00004234</td>\n",
       "      <td>Chuckles</td>\n",
       "      <td>True</td>\n",
       "    </tr>\n",
       "  </tbody>\n",
       "</table>\n",
       "</div>"
      ],
      "text/plain": [
       "    FIRST    LAST      NICKNAME  EMP-NO  2019 BONUS  2019 BASE  \\\n",
       "11  Sanai  Mccann      Chuckles    4234       65174      40579   \n",
       "\n",
       "    2019 TOTAL COMP  2019 PERFORMANCE  DECISION    emp_id      nickname  \\\n",
       "11           105753                  6     keep  00004234      Chuckles   \n",
       "\n",
       "    duplicated  \n",
       "11        True  "
      ]
     },
     "execution_count": 115,
     "metadata": {},
     "output_type": "execute_result"
    }
   ],
   "source": [
    "in_trader_df['duplicated'] = in_trader_df.duplicated(subset=['emp_id'])\n",
    "in_trader_df[in_trader_df['duplicated'] == True]"
   ]
  },
  {
   "cell_type": "markdown",
   "id": "12e67b1b",
   "metadata": {},
   "source": [
    "Remove duplicates and create table ready for import"
   ]
  },
  {
   "cell_type": "code",
   "execution_count": 116,
   "id": "48c06b58",
   "metadata": {},
   "outputs": [
    {
     "data": {
      "text/html": [
       "<div>\n",
       "<style scoped>\n",
       "    .dataframe tbody tr th:only-of-type {\n",
       "        vertical-align: middle;\n",
       "    }\n",
       "\n",
       "    .dataframe tbody tr th {\n",
       "        vertical-align: top;\n",
       "    }\n",
       "\n",
       "    .dataframe thead th {\n",
       "        text-align: right;\n",
       "    }\n",
       "</style>\n",
       "<table border=\"1\" class=\"dataframe\">\n",
       "  <thead>\n",
       "    <tr style=\"text-align: right;\">\n",
       "      <th></th>\n",
       "      <th>emp_id</th>\n",
       "      <th>nickname</th>\n",
       "    </tr>\n",
       "  </thead>\n",
       "  <tbody>\n",
       "    <tr>\n",
       "      <th>0</th>\n",
       "      <td>00004234</td>\n",
       "      <td>Admiral</td>\n",
       "    </tr>\n",
       "    <tr>\n",
       "      <th>1</th>\n",
       "      <td>00002344</td>\n",
       "      <td>Amazon</td>\n",
       "    </tr>\n",
       "    <tr>\n",
       "      <th>2</th>\n",
       "      <td>00002122</td>\n",
       "      <td>Bean</td>\n",
       "    </tr>\n",
       "    <tr>\n",
       "      <th>3</th>\n",
       "      <td>00003221</td>\n",
       "      <td>Beast</td>\n",
       "    </tr>\n",
       "    <tr>\n",
       "      <th>4</th>\n",
       "      <td>00002366</td>\n",
       "      <td>Big Nasty</td>\n",
       "    </tr>\n",
       "  </tbody>\n",
       "</table>\n",
       "</div>"
      ],
      "text/plain": [
       "     emp_id       nickname\n",
       "0  00004234        Admiral\n",
       "1  00002344         Amazon\n",
       "2  00002122           Bean\n",
       "3  00003221          Beast\n",
       "4  00002366      Big Nasty"
      ]
     },
     "execution_count": 116,
     "metadata": {},
     "output_type": "execute_result"
    }
   ],
   "source": [
    "trader_df = pd.DataFrame(in_trader_df[in_trader_df['duplicated'] == False][['emp_id', 'nickname']])\n",
    "trader_df.head()"
   ]
  },
  {
   "cell_type": "code",
   "execution_count": 117,
   "id": "00407048",
   "metadata": {},
   "outputs": [],
   "source": [
    "trader_df.to_csv(f'{data_directory}{prefix}trader.csv', header=False, index=False)"
   ]
  },
  {
   "cell_type": "markdown",
   "id": "a5343b4d",
   "metadata": {},
   "source": [
    "# Counterparty"
   ]
  },
  {
   "cell_type": "code",
   "execution_count": 118,
   "id": "b1938fea",
   "metadata": {},
   "outputs": [
    {
     "data": {
      "text/html": [
       "<div>\n",
       "<style scoped>\n",
       "    .dataframe tbody tr th:only-of-type {\n",
       "        vertical-align: middle;\n",
       "    }\n",
       "\n",
       "    .dataframe tbody tr th {\n",
       "        vertical-align: top;\n",
       "    }\n",
       "\n",
       "    .dataframe thead th {\n",
       "        text-align: right;\n",
       "    }\n",
       "</style>\n",
       "<table border=\"1\" class=\"dataframe\">\n",
       "  <thead>\n",
       "    <tr style=\"text-align: right;\">\n",
       "      <th></th>\n",
       "      <th>NAME</th>\n",
       "      <th>ASSETS</th>\n",
       "      <th>PARENT</th>\n",
       "    </tr>\n",
       "  </thead>\n",
       "  <tbody>\n",
       "    <tr>\n",
       "      <th>0</th>\n",
       "      <td>China Industrial and Commercial Bank of China</td>\n",
       "      <td>4,009.26</td>\n",
       "      <td>-1</td>\n",
       "    </tr>\n",
       "    <tr>\n",
       "      <th>1</th>\n",
       "      <td>China China Construction Bank Corporation</td>\n",
       "      <td>3,400.25</td>\n",
       "      <td>-1</td>\n",
       "    </tr>\n",
       "    <tr>\n",
       "      <th>2</th>\n",
       "      <td>China Agricultural Bank of China</td>\n",
       "      <td>3,235.65</td>\n",
       "      <td>-1</td>\n",
       "    </tr>\n",
       "    <tr>\n",
       "      <th>3</th>\n",
       "      <td>China Bank of China</td>\n",
       "      <td>2,991.90</td>\n",
       "      <td>-1</td>\n",
       "    </tr>\n",
       "    <tr>\n",
       "      <th>4</th>\n",
       "      <td>Japan Mitsubishi UFJ Financial Group</td>\n",
       "      <td>2,784.74</td>\n",
       "      <td>-1</td>\n",
       "    </tr>\n",
       "  </tbody>\n",
       "</table>\n",
       "</div>"
      ],
      "text/plain": [
       "                                             NAME    ASSETS  PARENT\n",
       "0  China Industrial and Commercial Bank of China   4,009.26      -1\n",
       "1      China China Construction Bank Corporation   3,400.25      -1\n",
       "2               China Agricultural Bank of China   3,235.65      -1\n",
       "3                            China Bank of China   2,991.90      -1\n",
       "4           Japan Mitsubishi UFJ Financial Group   2,784.74      -1"
      ]
     },
     "execution_count": 118,
     "metadata": {},
     "output_type": "execute_result"
    }
   ],
   "source": [
    "in_cp_df = pd.read_csv(data_directory + 'COUNTERPARTY.csv')\n",
    "in_cp_df.head()"
   ]
  },
  {
   "cell_type": "markdown",
   "id": "2ab9cb9b",
   "metadata": {},
   "source": [
    "The counterparties in this file are all external as opposed to internal counterparties"
   ]
  },
  {
   "cell_type": "code",
   "execution_count": 119,
   "id": "5cdd5077",
   "metadata": {},
   "outputs": [],
   "source": [
    "in_cp_df['cp_type'] = ['external' for _ in range(len(in_cp_df))]"
   ]
  },
  {
   "cell_type": "markdown",
   "id": "7d0e5fa2",
   "metadata": {},
   "source": [
    "Generate GUID for counterparties:"
   ]
  },
  {
   "cell_type": "code",
   "execution_count": 120,
   "id": "6ee3024b",
   "metadata": {},
   "outputs": [],
   "source": [
    "in_cp_df['guid'] = [str(uuid.uuid4()) for _ in range(len(in_cp_df))]"
   ]
  },
  {
   "cell_type": "code",
   "execution_count": 121,
   "id": "b30f4e1b",
   "metadata": {},
   "outputs": [],
   "source": [
    "in_cp_df['name'] = in_cp_df['NAME']"
   ]
  },
  {
   "cell_type": "markdown",
   "id": "fac806fd",
   "metadata": {},
   "source": [
    "inspecting for duplicates:"
   ]
  },
  {
   "cell_type": "code",
   "execution_count": 122,
   "id": "59d9e2b6",
   "metadata": {},
   "outputs": [
    {
     "data": {
      "text/html": [
       "<div>\n",
       "<style scoped>\n",
       "    .dataframe tbody tr th:only-of-type {\n",
       "        vertical-align: middle;\n",
       "    }\n",
       "\n",
       "    .dataframe tbody tr th {\n",
       "        vertical-align: top;\n",
       "    }\n",
       "\n",
       "    .dataframe thead th {\n",
       "        text-align: right;\n",
       "    }\n",
       "</style>\n",
       "<table border=\"1\" class=\"dataframe\">\n",
       "  <thead>\n",
       "    <tr style=\"text-align: right;\">\n",
       "      <th></th>\n",
       "      <th>NAME</th>\n",
       "      <th>ASSETS</th>\n",
       "      <th>PARENT</th>\n",
       "      <th>cp_type</th>\n",
       "      <th>guid</th>\n",
       "      <th>name</th>\n",
       "      <th>duplicated</th>\n",
       "    </tr>\n",
       "  </thead>\n",
       "  <tbody>\n",
       "  </tbody>\n",
       "</table>\n",
       "</div>"
      ],
      "text/plain": [
       "Empty DataFrame\n",
       "Columns: [NAME, ASSETS, PARENT, cp_type, guid, name, duplicated]\n",
       "Index: []"
      ]
     },
     "execution_count": 122,
     "metadata": {},
     "output_type": "execute_result"
    }
   ],
   "source": [
    "in_cp_df['duplicated'] =in_cp_df.duplicated(subset=['name'])\n",
    "in_cp_df[in_cp_df['duplicated'] == True]"
   ]
  },
  {
   "cell_type": "code",
   "execution_count": 123,
   "id": "f2d1869f",
   "metadata": {
    "scrolled": true
   },
   "outputs": [
    {
     "data": {
      "text/html": [
       "<div>\n",
       "<style scoped>\n",
       "    .dataframe tbody tr th:only-of-type {\n",
       "        vertical-align: middle;\n",
       "    }\n",
       "\n",
       "    .dataframe tbody tr th {\n",
       "        vertical-align: top;\n",
       "    }\n",
       "\n",
       "    .dataframe thead th {\n",
       "        text-align: right;\n",
       "    }\n",
       "</style>\n",
       "<table border=\"1\" class=\"dataframe\">\n",
       "  <thead>\n",
       "    <tr style=\"text-align: right;\">\n",
       "      <th></th>\n",
       "      <th>guid</th>\n",
       "      <th>cp_type</th>\n",
       "      <th>name</th>\n",
       "    </tr>\n",
       "  </thead>\n",
       "  <tbody>\n",
       "    <tr>\n",
       "      <th>0</th>\n",
       "      <td>9671a05f-9011-4fe6-be85-d61ce293c8a7</td>\n",
       "      <td>external</td>\n",
       "      <td>China Industrial and Commercial Bank of China</td>\n",
       "    </tr>\n",
       "    <tr>\n",
       "      <th>1</th>\n",
       "      <td>383d5009-3e0f-4973-ae6c-2d04f3f6c6cd</td>\n",
       "      <td>external</td>\n",
       "      <td>China China Construction Bank Corporation</td>\n",
       "    </tr>\n",
       "    <tr>\n",
       "      <th>2</th>\n",
       "      <td>9b9a81d2-f9b1-440d-8a7c-a166c34f337a</td>\n",
       "      <td>external</td>\n",
       "      <td>China Agricultural Bank of China</td>\n",
       "    </tr>\n",
       "    <tr>\n",
       "      <th>3</th>\n",
       "      <td>f1bda210-8626-4d9d-8217-3ca41de36f38</td>\n",
       "      <td>external</td>\n",
       "      <td>China Bank of China</td>\n",
       "    </tr>\n",
       "    <tr>\n",
       "      <th>4</th>\n",
       "      <td>e48611b9-0577-4edb-840b-4ee660f5d882</td>\n",
       "      <td>external</td>\n",
       "      <td>Japan Mitsubishi UFJ Financial Group</td>\n",
       "    </tr>\n",
       "  </tbody>\n",
       "</table>\n",
       "</div>"
      ],
      "text/plain": [
       "                                   guid   cp_type  \\\n",
       "0  9671a05f-9011-4fe6-be85-d61ce293c8a7  external   \n",
       "1  383d5009-3e0f-4973-ae6c-2d04f3f6c6cd  external   \n",
       "2  9b9a81d2-f9b1-440d-8a7c-a166c34f337a  external   \n",
       "3  f1bda210-8626-4d9d-8217-3ca41de36f38  external   \n",
       "4  e48611b9-0577-4edb-840b-4ee660f5d882  external   \n",
       "\n",
       "                                             name  \n",
       "0  China Industrial and Commercial Bank of China   \n",
       "1      China China Construction Bank Corporation   \n",
       "2               China Agricultural Bank of China   \n",
       "3                            China Bank of China   \n",
       "4           Japan Mitsubishi UFJ Financial Group   "
      ]
     },
     "execution_count": 123,
     "metadata": {},
     "output_type": "execute_result"
    }
   ],
   "source": [
    "cp_df = in_cp_df[['guid', 'cp_type', 'name']]\n",
    "cp_df.head()"
   ]
  },
  {
   "cell_type": "code",
   "execution_count": 124,
   "id": "5b2ab43c",
   "metadata": {},
   "outputs": [],
   "source": [
    "cp_df.to_csv(f'{data_directory}{prefix}counterparty.csv', header=False, index=False)"
   ]
  },
  {
   "cell_type": "markdown",
   "id": "a3e31e10",
   "metadata": {},
   "source": [
    "# Stock"
   ]
  },
  {
   "cell_type": "markdown",
   "id": "c8e13cbc",
   "metadata": {},
   "source": [
    "Collect stocks from all file that are to be loaded"
   ]
  },
  {
   "cell_type": "markdown",
   "id": "68f33082",
   "metadata": {},
   "source": [
    "## FIRSTPRICES.pdf"
   ]
  },
  {
   "cell_type": "markdown",
   "id": "8d060464",
   "metadata": {},
   "source": [
    "**MANUAL STEP**: Copy content of FIRSTPRICES.pdf to text editor and save as FIRSTPRICES.txt"
   ]
  },
  {
   "cell_type": "code",
   "execution_count": 125,
   "id": "00e5ff86",
   "metadata": {},
   "outputs": [
    {
     "data": {
      "text/html": [
       "<div>\n",
       "<style scoped>\n",
       "    .dataframe tbody tr th:only-of-type {\n",
       "        vertical-align: middle;\n",
       "    }\n",
       "\n",
       "    .dataframe tbody tr th {\n",
       "        vertical-align: top;\n",
       "    }\n",
       "\n",
       "    .dataframe thead th {\n",
       "        text-align: right;\n",
       "    }\n",
       "</style>\n",
       "<table border=\"1\" class=\"dataframe\">\n",
       "  <thead>\n",
       "    <tr style=\"text-align: right;\">\n",
       "      <th></th>\n",
       "      <th>TICKER</th>\n",
       "      <th>ACTION</th>\n",
       "      <th>SHARES</th>\n",
       "      <th>LEVERAGE</th>\n",
       "      <th>PRICE</th>\n",
       "    </tr>\n",
       "  </thead>\n",
       "  <tbody>\n",
       "    <tr>\n",
       "      <th>0</th>\n",
       "      <td>META</td>\n",
       "      <td>B</td>\n",
       "      <td>20001</td>\n",
       "      <td>1.0</td>\n",
       "      <td>912.11</td>\n",
       "    </tr>\n",
       "    <tr>\n",
       "      <th>1</th>\n",
       "      <td>DHY</td>\n",
       "      <td>B</td>\n",
       "      <td>401</td>\n",
       "      <td>2.1</td>\n",
       "      <td>2.14</td>\n",
       "    </tr>\n",
       "    <tr>\n",
       "      <th>2</th>\n",
       "      <td>FAX</td>\n",
       "      <td>B</td>\n",
       "      <td>2440</td>\n",
       "      <td>3.3</td>\n",
       "      <td>3.28</td>\n",
       "    </tr>\n",
       "    <tr>\n",
       "      <th>3</th>\n",
       "      <td>DSU</td>\n",
       "      <td>S</td>\n",
       "      <td>99393</td>\n",
       "      <td>4.0</td>\n",
       "      <td>92.11</td>\n",
       "    </tr>\n",
       "    <tr>\n",
       "      <th>4</th>\n",
       "      <td>XOM</td>\n",
       "      <td>B</td>\n",
       "      <td>266</td>\n",
       "      <td>1.0</td>\n",
       "      <td>213.22</td>\n",
       "    </tr>\n",
       "  </tbody>\n",
       "</table>\n",
       "</div>"
      ],
      "text/plain": [
       "  TICKER ACTION  SHARES  LEVERAGE   PRICE\n",
       "0   META      B   20001       1.0  912.11\n",
       "1    DHY      B     401       2.1    2.14\n",
       "2    FAX      B    2440       3.3    3.28\n",
       "3    DSU      S   99393       4.0   92.11\n",
       "4    XOM      B     266       1.0  213.22"
      ]
     },
     "execution_count": 125,
     "metadata": {},
     "output_type": "execute_result"
    }
   ],
   "source": [
    "in_trades_df = pd.read_csv(data_directory + 'FIRSTPRICES.txt', delimiter=' ')\n",
    "in_trades_df.head()"
   ]
  },
  {
   "cell_type": "markdown",
   "id": "5b85b5df",
   "metadata": {},
   "source": [
    "Check for missing values:"
   ]
  },
  {
   "cell_type": "code",
   "execution_count": 126,
   "id": "c71e80db",
   "metadata": {},
   "outputs": [
    {
     "name": "stdout",
     "output_type": "stream",
     "text": [
      "<class 'pandas.core.frame.DataFrame'>\n",
      "RangeIndex: 15 entries, 0 to 14\n",
      "Data columns (total 5 columns):\n",
      " #   Column    Non-Null Count  Dtype  \n",
      "---  ------    --------------  -----  \n",
      " 0   TICKER    15 non-null     object \n",
      " 1   ACTION    15 non-null     object \n",
      " 2   SHARES    15 non-null     int64  \n",
      " 3   LEVERAGE  13 non-null     float64\n",
      " 4   PRICE     15 non-null     float64\n",
      "dtypes: float64(2), int64(1), object(2)\n",
      "memory usage: 728.0+ bytes\n"
     ]
    }
   ],
   "source": [
    "in_trades_df.info()"
   ]
  },
  {
   "cell_type": "markdown",
   "id": "81bb0dce",
   "metadata": {},
   "source": [
    "Two missing values in LEVERAGE. Replace with 1:"
   ]
  },
  {
   "cell_type": "code",
   "execution_count": 127,
   "id": "680d34c1",
   "metadata": {},
   "outputs": [],
   "source": [
    "in_trades_df['LEVERAGE'] = in_trades_df['LEVERAGE'].fillna(1)"
   ]
  },
  {
   "cell_type": "code",
   "execution_count": 128,
   "id": "43d8312f",
   "metadata": {},
   "outputs": [
    {
     "data": {
      "text/plain": [
       "15"
      ]
     },
     "execution_count": 128,
     "metadata": {},
     "output_type": "execute_result"
    }
   ],
   "source": [
    "tickers_from_trades = in_trades_df['TICKER']\n",
    "tickers_from_trades.drop_duplicates(inplace=True)\n",
    "len(tickers_from_trades)"
   ]
  },
  {
   "cell_type": "markdown",
   "id": "9a2d52ae",
   "metadata": {},
   "source": [
    "## US-SHARES-ISN.csv"
   ]
  },
  {
   "cell_type": "code",
   "execution_count": 129,
   "id": "d65abe30",
   "metadata": {
    "scrolled": true
   },
   "outputs": [
    {
     "data": {
      "text/html": [
       "<div>\n",
       "<style scoped>\n",
       "    .dataframe tbody tr th:only-of-type {\n",
       "        vertical-align: middle;\n",
       "    }\n",
       "\n",
       "    .dataframe tbody tr th {\n",
       "        vertical-align: top;\n",
       "    }\n",
       "\n",
       "    .dataframe thead th {\n",
       "        text-align: right;\n",
       "    }\n",
       "</style>\n",
       "<table border=\"1\" class=\"dataframe\">\n",
       "  <thead>\n",
       "    <tr style=\"text-align: right;\">\n",
       "      <th></th>\n",
       "      <th>Name</th>\n",
       "      <th>Ticker</th>\n",
       "      <th>SEDOL</th>\n",
       "      <th>ISIN</th>\n",
       "      <th>Exchange</th>\n",
       "    </tr>\n",
       "  </thead>\n",
       "  <tbody>\n",
       "    <tr>\n",
       "      <th>0</th>\n",
       "      <td>1-800-FLOWERS.COM INC. CL A</td>\n",
       "      <td>FLWS</td>\n",
       "      <td>2444123</td>\n",
       "      <td>US68243Q1067</td>\n",
       "      <td>NASDAQ</td>\n",
       "    </tr>\n",
       "    <tr>\n",
       "      <th>1</th>\n",
       "      <td>1ST SOURCE CORP.</td>\n",
       "      <td>SRCE</td>\n",
       "      <td>2341848</td>\n",
       "      <td>US3369011032</td>\n",
       "      <td>NASDAQ</td>\n",
       "    </tr>\n",
       "    <tr>\n",
       "      <th>2</th>\n",
       "      <td>2U INC</td>\n",
       "      <td>TWOU</td>\n",
       "      <td>BKWBZZ0</td>\n",
       "      <td>US90214J1016</td>\n",
       "      <td>NASDAQ</td>\n",
       "    </tr>\n",
       "    <tr>\n",
       "      <th>3</th>\n",
       "      <td>3D SYSTEMS CORP</td>\n",
       "      <td>DDD</td>\n",
       "      <td>2889768</td>\n",
       "      <td>US88554D2053</td>\n",
       "      <td>New York Stock Exchange Inc.</td>\n",
       "    </tr>\n",
       "    <tr>\n",
       "      <th>4</th>\n",
       "      <td>3M CO</td>\n",
       "      <td>MMM</td>\n",
       "      <td>2595708</td>\n",
       "      <td>US88579Y1010</td>\n",
       "      <td>New York Stock Exchange Inc.</td>\n",
       "    </tr>\n",
       "  </tbody>\n",
       "</table>\n",
       "</div>"
      ],
      "text/plain": [
       "                          Name Ticker    SEDOL          ISIN  \\\n",
       "0  1-800-FLOWERS.COM INC. CL A   FLWS  2444123  US68243Q1067   \n",
       "1             1ST SOURCE CORP.   SRCE  2341848  US3369011032   \n",
       "2                       2U INC   TWOU  BKWBZZ0  US90214J1016   \n",
       "3              3D SYSTEMS CORP    DDD  2889768  US88554D2053   \n",
       "4                        3M CO    MMM  2595708  US88579Y1010   \n",
       "\n",
       "                       Exchange  \n",
       "0                        NASDAQ  \n",
       "1                        NASDAQ  \n",
       "2                        NASDAQ  \n",
       "3  New York Stock Exchange Inc.  \n",
       "4  New York Stock Exchange Inc.  "
      ]
     },
     "execution_count": 129,
     "metadata": {},
     "output_type": "execute_result"
    }
   ],
   "source": [
    "in_stocks_df = pd.read_csv(data_directory + 'US-SHARES-ISN.csv')\n",
    "in_stocks_df.head()"
   ]
  },
  {
   "cell_type": "code",
   "execution_count": 130,
   "id": "76393933",
   "metadata": {
    "scrolled": true
   },
   "outputs": [
    {
     "data": {
      "text/plain": [
       "770"
      ]
     },
     "execution_count": 130,
     "metadata": {},
     "output_type": "execute_result"
    }
   ],
   "source": [
    "tickers_from_shares = in_stocks_df['Ticker']\n",
    "tickers_from_shares.drop_duplicates(inplace=True)\n",
    "len(tickers_from_shares)"
   ]
  },
  {
   "cell_type": "markdown",
   "id": "5038b2ce",
   "metadata": {},
   "source": [
    "## AllowedProducts.xlsx"
   ]
  },
  {
   "cell_type": "code",
   "execution_count": 131,
   "id": "0b6694f7",
   "metadata": {},
   "outputs": [
    {
     "data": {
      "text/html": [
       "<div>\n",
       "<style scoped>\n",
       "    .dataframe tbody tr th:only-of-type {\n",
       "        vertical-align: middle;\n",
       "    }\n",
       "\n",
       "    .dataframe tbody tr th {\n",
       "        vertical-align: top;\n",
       "    }\n",
       "\n",
       "    .dataframe thead th {\n",
       "        text-align: right;\n",
       "    }\n",
       "</style>\n",
       "<table border=\"1\" class=\"dataframe\">\n",
       "  <thead>\n",
       "    <tr style=\"text-align: right;\">\n",
       "      <th></th>\n",
       "      <th>NAME</th>\n",
       "      <th>TICKER</th>\n",
       "      <th>SEDOL</th>\n",
       "      <th>ISIN</th>\n",
       "      <th>EXCHANGE</th>\n",
       "    </tr>\n",
       "  </thead>\n",
       "  <tbody>\n",
       "    <tr>\n",
       "      <th>0</th>\n",
       "      <td>AMGEN INC</td>\n",
       "      <td>AMGN</td>\n",
       "      <td>2023607</td>\n",
       "      <td>US0311621009</td>\n",
       "      <td>NASDAQ</td>\n",
       "    </tr>\n",
       "    <tr>\n",
       "      <th>1</th>\n",
       "      <td>COCA-COLA</td>\n",
       "      <td>KO</td>\n",
       "      <td>2206657</td>\n",
       "      <td>US1912161007</td>\n",
       "      <td>New York Stock Exchange Inc.</td>\n",
       "    </tr>\n",
       "    <tr>\n",
       "      <th>2</th>\n",
       "      <td>DOW CHEMICAL</td>\n",
       "      <td>DOW</td>\n",
       "      <td>2278719</td>\n",
       "      <td>US2605431038</td>\n",
       "      <td>New York Stock Exchange Inc.</td>\n",
       "    </tr>\n",
       "    <tr>\n",
       "      <th>3</th>\n",
       "      <td>DUKE ENERGY CORP</td>\n",
       "      <td>DUK</td>\n",
       "      <td>B7VD3F2</td>\n",
       "      <td>US26441C2044</td>\n",
       "      <td>New York Stock Exchange Inc.</td>\n",
       "    </tr>\n",
       "    <tr>\n",
       "      <th>4</th>\n",
       "      <td>JOHNSON &amp; JOHNSON</td>\n",
       "      <td>JNJ</td>\n",
       "      <td>2475833</td>\n",
       "      <td>US4781601046</td>\n",
       "      <td>New York Stock Exchange Inc.</td>\n",
       "    </tr>\n",
       "  </tbody>\n",
       "</table>\n",
       "</div>"
      ],
      "text/plain": [
       "                NAME TICKER    SEDOL          ISIN  \\\n",
       "0          AMGEN INC   AMGN  2023607  US0311621009   \n",
       "1          COCA-COLA     KO  2206657  US1912161007   \n",
       "2       DOW CHEMICAL    DOW  2278719  US2605431038   \n",
       "3   DUKE ENERGY CORP    DUK  B7VD3F2  US26441C2044   \n",
       "4  JOHNSON & JOHNSON    JNJ  2475833  US4781601046   \n",
       "\n",
       "                       EXCHANGE  \n",
       "0                        NASDAQ  \n",
       "1  New York Stock Exchange Inc.  \n",
       "2  New York Stock Exchange Inc.  \n",
       "3  New York Stock Exchange Inc.  \n",
       "4  New York Stock Exchange Inc.  "
      ]
     },
     "execution_count": 131,
     "metadata": {},
     "output_type": "execute_result"
    }
   ],
   "source": [
    "in_allowed_df = pd.read_excel(data_directory + 'AllowedProducts.xlsx')\n",
    "in_allowed_df.head()"
   ]
  },
  {
   "cell_type": "code",
   "execution_count": 132,
   "id": "ad94b108",
   "metadata": {},
   "outputs": [],
   "source": [
    "tickers_from_allowed = in_allowed_df['TICKER']"
   ]
  },
  {
   "cell_type": "markdown",
   "id": "32958287",
   "metadata": {},
   "source": [
    "## Build Stock table"
   ]
  },
  {
   "cell_type": "markdown",
   "id": "43c88db4",
   "metadata": {},
   "source": [
    "based on tickers referenced in data"
   ]
  },
  {
   "cell_type": "code",
   "execution_count": 133,
   "id": "6f586a95",
   "metadata": {},
   "outputs": [
    {
     "data": {
      "text/plain": [
       "785"
      ]
     },
     "execution_count": 133,
     "metadata": {},
     "output_type": "execute_result"
    }
   ],
   "source": [
    "all_tickers = set(tickers_from_trades).union(tickers_from_shares).union(tickers_from_allowed)\n",
    "len(all_tickers)"
   ]
  },
  {
   "cell_type": "markdown",
   "id": "27c876ec",
   "metadata": {},
   "source": [
    "Get name for tickers (this step can take a while. restart kernel and set global variable mock = True to use mock connection)  \n",
    "Invalid tickers will have value None"
   ]
  },
  {
   "cell_type": "code",
   "execution_count": 135,
   "id": "11182a44",
   "metadata": {
    "scrolled": true
   },
   "outputs": [
    {
     "name": "stdout",
     "output_type": "stream",
     "text": [
      "100.00 % done\r"
     ]
    }
   ],
   "source": [
    "ticker_names = track_progress(get_name, all_tickers)\n",
    "tickers = dict(zip(all_tickers, ticker_names))"
   ]
  },
  {
   "cell_type": "markdown",
   "id": "c5901593",
   "metadata": {},
   "source": [
    "Identify invalid tickers:"
   ]
  },
  {
   "cell_type": "code",
   "execution_count": 148,
   "id": "8601e7d0",
   "metadata": {},
   "outputs": [
    {
     "name": "stdout",
     "output_type": "stream",
     "text": [
      "Invalid ticker: YHOO\n",
      "Invalid ticker: FCEA\n"
     ]
    }
   ],
   "source": [
    "for t, n in tickers.items():\n",
    "    if not n:\n",
    "        print(f'Invalid ticker: {t}')"
   ]
  },
  {
   "cell_type": "markdown",
   "id": "5d1f1a33",
   "metadata": {},
   "source": [
    "Remove invalid tickers:"
   ]
  },
  {
   "cell_type": "code",
   "execution_count": 149,
   "id": "6b7dd689",
   "metadata": {},
   "outputs": [],
   "source": [
    "cleaned_tickers = { t:n for t,n in tickers.items() if n }"
   ]
  },
  {
   "cell_type": "markdown",
   "id": "68e5f608",
   "metadata": {},
   "source": [
    "Create GUIDs for tickers:"
   ]
  },
  {
   "cell_type": "code",
   "execution_count": 150,
   "id": "a44f9597",
   "metadata": {},
   "outputs": [],
   "source": [
    "tickers_with_id = {t:[str(uuid.uuid4()), n] for t,n in cleaned_tickers.items()}"
   ]
  },
  {
   "cell_type": "markdown",
   "id": "902229ed",
   "metadata": {},
   "source": [
    "Create table:"
   ]
  },
  {
   "cell_type": "code",
   "execution_count": 151,
   "id": "28105587",
   "metadata": {
    "scrolled": true
   },
   "outputs": [
    {
     "data": {
      "text/html": [
       "<div>\n",
       "<style scoped>\n",
       "    .dataframe tbody tr th:only-of-type {\n",
       "        vertical-align: middle;\n",
       "    }\n",
       "\n",
       "    .dataframe tbody tr th {\n",
       "        vertical-align: top;\n",
       "    }\n",
       "\n",
       "    .dataframe thead th {\n",
       "        text-align: right;\n",
       "    }\n",
       "</style>\n",
       "<table border=\"1\" class=\"dataframe\">\n",
       "  <thead>\n",
       "    <tr style=\"text-align: right;\">\n",
       "      <th></th>\n",
       "      <th>fi_id</th>\n",
       "      <th>name</th>\n",
       "      <th>ticker</th>\n",
       "    </tr>\n",
       "  </thead>\n",
       "  <tbody>\n",
       "    <tr>\n",
       "      <th>LLY</th>\n",
       "      <td>302e7ebe-d337-49fb-92b8-cef71bf18f2b</td>\n",
       "      <td>Eli Lilly and Company</td>\n",
       "      <td>LLY</td>\n",
       "    </tr>\n",
       "    <tr>\n",
       "      <th>TRIP</th>\n",
       "      <td>cbdfb4ac-59c6-4911-af70-598c20202971</td>\n",
       "      <td>Tripadvisor Inc</td>\n",
       "      <td>TRIP</td>\n",
       "    </tr>\n",
       "    <tr>\n",
       "      <th>LIND</th>\n",
       "      <td>cb5dd952-a33f-4860-87e7-22f4ce7c078f</td>\n",
       "      <td>Lindblad Expd Holdings</td>\n",
       "      <td>LIND</td>\n",
       "    </tr>\n",
       "    <tr>\n",
       "      <th>SGA</th>\n",
       "      <td>cdcfcf87-8a94-4735-9cb5-387c8de262be</td>\n",
       "      <td>Saga Communications</td>\n",
       "      <td>SGA</td>\n",
       "    </tr>\n",
       "    <tr>\n",
       "      <th>TWOU</th>\n",
       "      <td>1b58b775-040a-4d62-8a20-7a4a21946306</td>\n",
       "      <td>2U Inc</td>\n",
       "      <td>TWOU</td>\n",
       "    </tr>\n",
       "  </tbody>\n",
       "</table>\n",
       "</div>"
      ],
      "text/plain": [
       "                                     fi_id                    name ticker\n",
       "LLY   302e7ebe-d337-49fb-92b8-cef71bf18f2b   Eli Lilly and Company    LLY\n",
       "TRIP  cbdfb4ac-59c6-4911-af70-598c20202971         Tripadvisor Inc   TRIP\n",
       "LIND  cb5dd952-a33f-4860-87e7-22f4ce7c078f  Lindblad Expd Holdings   LIND\n",
       "SGA   cdcfcf87-8a94-4735-9cb5-387c8de262be     Saga Communications    SGA\n",
       "TWOU  1b58b775-040a-4d62-8a20-7a4a21946306                  2U Inc   TWOU"
      ]
     },
     "execution_count": 151,
     "metadata": {},
     "output_type": "execute_result"
    }
   ],
   "source": [
    "stocks_df = pd.DataFrame.from_dict(tickers_with_id, columns=['fi_id', 'name'], orient='index')\n",
    "stocks_df['ticker'] = stocks_df.index\n",
    "stocks_df.head()"
   ]
  },
  {
   "cell_type": "code",
   "execution_count": 152,
   "id": "3c55b041",
   "metadata": {},
   "outputs": [],
   "source": [
    "stocks_df.to_csv(f'{data_directory}{prefix}stock.csv', header=False, index=False)"
   ]
  },
  {
   "cell_type": "markdown",
   "id": "27eea75a",
   "metadata": {},
   "source": [
    "# Option"
   ]
  },
  {
   "cell_type": "markdown",
   "id": "8fed6a80",
   "metadata": {},
   "source": [
    "Data is generated to demonstrate how that table works. This data is completely made up."
   ]
  },
  {
   "cell_type": "markdown",
   "id": "f44ac0ce",
   "metadata": {},
   "source": [
    "Seed random function to get reproducable results:"
   ]
  },
  {
   "cell_type": "code",
   "execution_count": 153,
   "id": "9ff6966a",
   "metadata": {},
   "outputs": [],
   "source": [
    "random.seed(666)"
   ]
  },
  {
   "cell_type": "code",
   "execution_count": 154,
   "id": "ddd5e2bb",
   "metadata": {},
   "outputs": [],
   "source": [
    "def generate_option():\n",
    "    fi_id = str(uuid.uuid4())\n",
    "    underlying_stock = stocks_df['fi_id'][random.randrange(len(stocks_df))]\n",
    "    option_type = 'B' if random.randrange(2) else 'S'\n",
    "    style_code = random.randrange(len(option_styles_df))\n",
    "    strike_price = random.randrange(100, 200)\n",
    "    # maturity format YYYY-MM-DD hh:mm:ss\n",
    "    maturity = f'2022-{str(random.randrange(5, 13)).zfill(2)}-{str(random.randrange(1, 30)).zfill(2)} 18:00:00'\n",
    "    return [fi_id, underlying_stock, option_type, style_code, strike_price, maturity]"
   ]
  },
  {
   "cell_type": "markdown",
   "id": "6218654f",
   "metadata": {},
   "source": [
    "generate some options and store in table:"
   ]
  },
  {
   "cell_type": "code",
   "execution_count": 155,
   "id": "028a3518",
   "metadata": {},
   "outputs": [
    {
     "data": {
      "text/html": [
       "<div>\n",
       "<style scoped>\n",
       "    .dataframe tbody tr th:only-of-type {\n",
       "        vertical-align: middle;\n",
       "    }\n",
       "\n",
       "    .dataframe tbody tr th {\n",
       "        vertical-align: top;\n",
       "    }\n",
       "\n",
       "    .dataframe thead th {\n",
       "        text-align: right;\n",
       "    }\n",
       "</style>\n",
       "<table border=\"1\" class=\"dataframe\">\n",
       "  <thead>\n",
       "    <tr style=\"text-align: right;\">\n",
       "      <th></th>\n",
       "      <th>fi_id</th>\n",
       "      <th>underlying_stock</th>\n",
       "      <th>option_type</th>\n",
       "      <th>style_code</th>\n",
       "      <th>strike_price</th>\n",
       "      <th>maturity</th>\n",
       "    </tr>\n",
       "  </thead>\n",
       "  <tbody>\n",
       "    <tr>\n",
       "      <th>0</th>\n",
       "      <td>3ead2ab3-94ac-4897-961f-23eeab453704</td>\n",
       "      <td>862e5e6e-acc1-4f6f-ad45-819a8d5823ac</td>\n",
       "      <td>B</td>\n",
       "      <td>1</td>\n",
       "      <td>136</td>\n",
       "      <td>2022-05-26 18:00:00</td>\n",
       "    </tr>\n",
       "    <tr>\n",
       "      <th>1</th>\n",
       "      <td>87bf449f-9a29-412a-8ba9-d45b3dec10dc</td>\n",
       "      <td>8c1f5b12-a5df-4d91-9f07-3e58fe30a586</td>\n",
       "      <td>B</td>\n",
       "      <td>0</td>\n",
       "      <td>106</td>\n",
       "      <td>2022-07-13 18:00:00</td>\n",
       "    </tr>\n",
       "    <tr>\n",
       "      <th>2</th>\n",
       "      <td>2aa9c6cd-2988-4d35-805e-c7ba9884414a</td>\n",
       "      <td>e85887d4-a350-4673-9449-f003734919bb</td>\n",
       "      <td>B</td>\n",
       "      <td>2</td>\n",
       "      <td>131</td>\n",
       "      <td>2022-05-04 18:00:00</td>\n",
       "    </tr>\n",
       "    <tr>\n",
       "      <th>3</th>\n",
       "      <td>55e8a198-68a0-4a35-95cb-38d47d98f20b</td>\n",
       "      <td>5a0c7c2c-7ad7-48a4-b54b-33d6e83e71d1</td>\n",
       "      <td>S</td>\n",
       "      <td>1</td>\n",
       "      <td>187</td>\n",
       "      <td>2022-07-06 18:00:00</td>\n",
       "    </tr>\n",
       "    <tr>\n",
       "      <th>4</th>\n",
       "      <td>84383bec-b43b-4110-85eb-e3e47f995627</td>\n",
       "      <td>8650e3f8-9534-44e3-87b0-c80488b84727</td>\n",
       "      <td>B</td>\n",
       "      <td>1</td>\n",
       "      <td>189</td>\n",
       "      <td>2022-09-17 18:00:00</td>\n",
       "    </tr>\n",
       "  </tbody>\n",
       "</table>\n",
       "</div>"
      ],
      "text/plain": [
       "                                  fi_id                      underlying_stock  \\\n",
       "0  3ead2ab3-94ac-4897-961f-23eeab453704  862e5e6e-acc1-4f6f-ad45-819a8d5823ac   \n",
       "1  87bf449f-9a29-412a-8ba9-d45b3dec10dc  8c1f5b12-a5df-4d91-9f07-3e58fe30a586   \n",
       "2  2aa9c6cd-2988-4d35-805e-c7ba9884414a  e85887d4-a350-4673-9449-f003734919bb   \n",
       "3  55e8a198-68a0-4a35-95cb-38d47d98f20b  5a0c7c2c-7ad7-48a4-b54b-33d6e83e71d1   \n",
       "4  84383bec-b43b-4110-85eb-e3e47f995627  8650e3f8-9534-44e3-87b0-c80488b84727   \n",
       "\n",
       "  option_type  style_code  strike_price             maturity  \n",
       "0           B           1           136  2022-05-26 18:00:00  \n",
       "1           B           0           106  2022-07-13 18:00:00  \n",
       "2           B           2           131  2022-05-04 18:00:00  \n",
       "3           S           1           187  2022-07-06 18:00:00  \n",
       "4           B           1           189  2022-09-17 18:00:00  "
      ]
     },
     "execution_count": 155,
     "metadata": {},
     "output_type": "execute_result"
    }
   ],
   "source": [
    "options = [generate_option() for _ in range(50)]\n",
    "options_df = pd.DataFrame(options, columns=['fi_id', 'underlying_stock', 'option_type', 'style_code', 'strike_price', 'maturity'])\n",
    "options_df.head()"
   ]
  },
  {
   "cell_type": "code",
   "execution_count": 156,
   "id": "74d6b30b",
   "metadata": {},
   "outputs": [],
   "source": [
    "options_df.to_csv(f'{data_directory}{prefix}option.csv', header=False, index=False)"
   ]
  },
  {
   "cell_type": "markdown",
   "id": "ab84b5fb",
   "metadata": {},
   "source": [
    "# financial_instrument"
   ]
  },
  {
   "cell_type": "markdown",
   "id": "d3889712",
   "metadata": {},
   "source": [
    "Create financial instruments table. Current value is completely made up"
   ]
  },
  {
   "cell_type": "markdown",
   "id": "eabe6761",
   "metadata": {},
   "source": [
    "Build table from stocks and options"
   ]
  },
  {
   "cell_type": "code",
   "execution_count": 157,
   "id": "aaa9aaa4",
   "metadata": {},
   "outputs": [],
   "source": [
    "def get_exchange(ticker):\n",
    "    shares_result = in_stocks_df[in_stocks_df['Ticker'] == ticker]['Exchange']\n",
    "    if len(shares_result):\n",
    "        return shares_result.iat[0]\n",
    "    allowed_result = in_allowed_df[in_allowed_df['TICKER'] == ticker]['EXCHANGE']\n",
    "    if len(allowed_result):\n",
    "        return allowed_resul.iat[0]\n",
    "    online_result = (ticker)\n",
    "    if online_result:\n",
    "        return online_result\n",
    "    else:\n",
    "        print(f'No exchange found for: {ticker}')\n",
    "        "
   ]
  },
  {
   "cell_type": "code",
   "execution_count": 158,
   "id": "6e376729",
   "metadata": {},
   "outputs": [
    {
     "data": {
      "text/plain": [
       "'NASDAQ'"
      ]
     },
     "execution_count": 158,
     "metadata": {},
     "output_type": "execute_result"
    }
   ],
   "source": [
    "get_exchange('TSLA')"
   ]
  },
  {
   "cell_type": "code",
   "execution_count": 159,
   "id": "5f958624",
   "metadata": {
    "scrolled": false
   },
   "outputs": [],
   "source": [
    "stock_exchange_map = { t:get_exchange(t) for t in tickers.keys() }"
   ]
  },
  {
   "cell_type": "markdown",
   "id": "5deb18c7",
   "metadata": {},
   "source": [
    "No exchange found for:"
   ]
  },
  {
   "cell_type": "code",
   "execution_count": 160,
   "id": "2622fd6d",
   "metadata": {
    "scrolled": true
   },
   "outputs": [],
   "source": [
    "for t,ex in ticker_exchange_map.items():\n",
    "    if not ex:\n",
    "        print(t)"
   ]
  },
  {
   "cell_type": "markdown",
   "id": "9787c348",
   "metadata": {},
   "source": [
    "Add stocks to financial instruments:"
   ]
  },
  {
   "cell_type": "code",
   "execution_count": 161,
   "id": "52d98395",
   "metadata": {
    "scrolled": true
   },
   "outputs": [
    {
     "data": {
      "text/plain": [
       "[['302e7ebe-d337-49fb-92b8-cef71bf18f2b',\n",
       "  0,\n",
       "  208,\n",
       "  'USD',\n",
       "  'New York Stock Exchange Inc.'],\n",
       " ['cbdfb4ac-59c6-4911-af70-598c20202971', 0, 111, 'USD', 'NASDAQ']]"
      ]
     },
     "execution_count": 161,
     "metadata": {},
     "output_type": "execute_result"
    }
   ],
   "source": [
    "financial_instruments = []\n",
    "for t, (fi_id, n) in tickers_with_id.items():\n",
    "    value = random.randint(40, 250)\n",
    "    financial_instruments.append([fi_id, 0, value, 'USD', ticker_exchange_map[t]])\n",
    "financial_instruments[:2]"
   ]
  },
  {
   "cell_type": "markdown",
   "id": "512f3118",
   "metadata": {},
   "source": [
    "Add options to financial instruments:"
   ]
  },
  {
   "cell_type": "code",
   "execution_count": 162,
   "id": "d562ab2b",
   "metadata": {},
   "outputs": [
    {
     "data": {
      "text/plain": [
       "[['cb81f30c-d4fc-4323-906e-0d465ebabf37',\n",
       "  1,\n",
       "  209,\n",
       "  'USD',\n",
       "  'New York Stock Exchange Inc.'],\n",
       " ['42924330-04a2-485f-9fc1-d142b4ab8630',\n",
       "  1,\n",
       "  184,\n",
       "  'USD',\n",
       "  'New York Stock Exchange Inc.']]"
      ]
     },
     "execution_count": 162,
     "metadata": {},
     "output_type": "execute_result"
    }
   ],
   "source": [
    "for o in options:\n",
    "    fi_id, underlying_stock, option_type, style_code, strike_price, maturity = o\n",
    "    value = random.randint(40, 250)\n",
    "    # set exchange to exchange of underlying stock\n",
    "    underlying_ticker = stocks_df[stocks_df['fi_id'] == underlying_stock]['ticker'].iat[0]\n",
    "    # use USD as ccy for all. It is deembed reasonable to do that as the list of stocks was labeled as US shares\n",
    "    financial_instruments.append([fi_id, 1, value, 'USD', ticker_exchange_map[underlying_ticker]])\n",
    "financial_instruments[-2:]"
   ]
  },
  {
   "cell_type": "code",
   "execution_count": 163,
   "id": "99374645",
   "metadata": {
    "scrolled": true
   },
   "outputs": [
    {
     "data": {
      "text/html": [
       "<div>\n",
       "<style scoped>\n",
       "    .dataframe tbody tr th:only-of-type {\n",
       "        vertical-align: middle;\n",
       "    }\n",
       "\n",
       "    .dataframe tbody tr th {\n",
       "        vertical-align: top;\n",
       "    }\n",
       "\n",
       "    .dataframe thead th {\n",
       "        text-align: right;\n",
       "    }\n",
       "</style>\n",
       "<table border=\"1\" class=\"dataframe\">\n",
       "  <thead>\n",
       "    <tr style=\"text-align: right;\">\n",
       "      <th></th>\n",
       "      <th>fi_id</th>\n",
       "      <th>type_code</th>\n",
       "      <th>current_value</th>\n",
       "      <th>currency_iso</th>\n",
       "      <th>exchange</th>\n",
       "    </tr>\n",
       "  </thead>\n",
       "  <tbody>\n",
       "    <tr>\n",
       "      <th>0</th>\n",
       "      <td>302e7ebe-d337-49fb-92b8-cef71bf18f2b</td>\n",
       "      <td>0</td>\n",
       "      <td>208</td>\n",
       "      <td>USD</td>\n",
       "      <td>New York Stock Exchange Inc.</td>\n",
       "    </tr>\n",
       "    <tr>\n",
       "      <th>1</th>\n",
       "      <td>cbdfb4ac-59c6-4911-af70-598c20202971</td>\n",
       "      <td>0</td>\n",
       "      <td>111</td>\n",
       "      <td>USD</td>\n",
       "      <td>NASDAQ</td>\n",
       "    </tr>\n",
       "    <tr>\n",
       "      <th>2</th>\n",
       "      <td>cb5dd952-a33f-4860-87e7-22f4ce7c078f</td>\n",
       "      <td>0</td>\n",
       "      <td>44</td>\n",
       "      <td>USD</td>\n",
       "      <td>NASDAQ</td>\n",
       "    </tr>\n",
       "    <tr>\n",
       "      <th>3</th>\n",
       "      <td>cdcfcf87-8a94-4735-9cb5-387c8de262be</td>\n",
       "      <td>0</td>\n",
       "      <td>146</td>\n",
       "      <td>USD</td>\n",
       "      <td>Nyse Mkt Llc</td>\n",
       "    </tr>\n",
       "    <tr>\n",
       "      <th>4</th>\n",
       "      <td>1b58b775-040a-4d62-8a20-7a4a21946306</td>\n",
       "      <td>0</td>\n",
       "      <td>120</td>\n",
       "      <td>USD</td>\n",
       "      <td>NASDAQ</td>\n",
       "    </tr>\n",
       "  </tbody>\n",
       "</table>\n",
       "</div>"
      ],
      "text/plain": [
       "                                  fi_id  type_code  current_value  \\\n",
       "0  302e7ebe-d337-49fb-92b8-cef71bf18f2b          0            208   \n",
       "1  cbdfb4ac-59c6-4911-af70-598c20202971          0            111   \n",
       "2  cb5dd952-a33f-4860-87e7-22f4ce7c078f          0             44   \n",
       "3  cdcfcf87-8a94-4735-9cb5-387c8de262be          0            146   \n",
       "4  1b58b775-040a-4d62-8a20-7a4a21946306          0            120   \n",
       "\n",
       "  currency_iso                      exchange  \n",
       "0          USD  New York Stock Exchange Inc.  \n",
       "1          USD                        NASDAQ  \n",
       "2          USD                        NASDAQ  \n",
       "3          USD                  Nyse Mkt Llc  \n",
       "4          USD                        NASDAQ  "
      ]
     },
     "execution_count": 163,
     "metadata": {},
     "output_type": "execute_result"
    }
   ],
   "source": [
    "fi_df = pd.DataFrame(financial_instruments, columns=['fi_id', 'type_code', 'current_value', 'currency_iso', 'exchange'])\n",
    "fi_df.head()"
   ]
  },
  {
   "cell_type": "code",
   "execution_count": 164,
   "id": "0bf8f188",
   "metadata": {},
   "outputs": [],
   "source": [
    "fi_df.to_csv(f'{data_directory}{prefix}financial_instrument.csv', header=False, index=False)"
   ]
  },
  {
   "cell_type": "markdown",
   "id": "436a7290",
   "metadata": {},
   "source": [
    "# allowed_fi"
   ]
  },
  {
   "cell_type": "markdown",
   "id": "82e5dad7",
   "metadata": {},
   "source": [
    "Generate permissions for financial instruments and derivatives. Completely made up for demonstration purposes"
   ]
  },
  {
   "cell_type": "code",
   "execution_count": 165,
   "id": "0cba257f",
   "metadata": {},
   "outputs": [],
   "source": [
    "allowed_fis = []\n",
    "for emp_id in trader_df['emp_id'][:2]:\n",
    "    stocks_allowed = random.randrange(8)\n",
    "    stocks_picked = []\n",
    "    for _ in range(stocks_allowed):\n",
    "        # pick random stock\n",
    "        stock = stocks_df['fi_id'].iat[random.randrange(len(stocks_df))]\n",
    "        if stock not in stocks_picked: # prevent duplicates\n",
    "            stocks_picked.append(stock)\n",
    "            allowed_fis.append([emp_id, stock, 0]) # allow trade of base symbol\n",
    "            derivative_type = random.randrange(1, len(fi_types_df)) \n",
    "            allowed_fis.append([emp_id, stock, derivative_type]) # allow trade of one additional derivative"
   ]
  },
  {
   "cell_type": "code",
   "execution_count": 166,
   "id": "dcbe401b",
   "metadata": {},
   "outputs": [
    {
     "data": {
      "text/html": [
       "<div>\n",
       "<style scoped>\n",
       "    .dataframe tbody tr th:only-of-type {\n",
       "        vertical-align: middle;\n",
       "    }\n",
       "\n",
       "    .dataframe tbody tr th {\n",
       "        vertical-align: top;\n",
       "    }\n",
       "\n",
       "    .dataframe thead th {\n",
       "        text-align: right;\n",
       "    }\n",
       "</style>\n",
       "<table border=\"1\" class=\"dataframe\">\n",
       "  <thead>\n",
       "    <tr style=\"text-align: right;\">\n",
       "      <th></th>\n",
       "      <th>emp_id</th>\n",
       "      <th>fi_id</th>\n",
       "      <th>type_code</th>\n",
       "    </tr>\n",
       "  </thead>\n",
       "  <tbody>\n",
       "    <tr>\n",
       "      <th>0</th>\n",
       "      <td>00004234</td>\n",
       "      <td>2e8b0410-a561-4914-9185-9ef49ff57067</td>\n",
       "      <td>0</td>\n",
       "    </tr>\n",
       "    <tr>\n",
       "      <th>1</th>\n",
       "      <td>00004234</td>\n",
       "      <td>2e8b0410-a561-4914-9185-9ef49ff57067</td>\n",
       "      <td>5</td>\n",
       "    </tr>\n",
       "    <tr>\n",
       "      <th>2</th>\n",
       "      <td>00004234</td>\n",
       "      <td>2870e8d7-8449-47a1-8224-747cdc105b74</td>\n",
       "      <td>0</td>\n",
       "    </tr>\n",
       "    <tr>\n",
       "      <th>3</th>\n",
       "      <td>00004234</td>\n",
       "      <td>2870e8d7-8449-47a1-8224-747cdc105b74</td>\n",
       "      <td>1</td>\n",
       "    </tr>\n",
       "    <tr>\n",
       "      <th>4</th>\n",
       "      <td>00004234</td>\n",
       "      <td>b3c5a7a6-6572-4a24-b6bf-4b4760241254</td>\n",
       "      <td>0</td>\n",
       "    </tr>\n",
       "  </tbody>\n",
       "</table>\n",
       "</div>"
      ],
      "text/plain": [
       "     emp_id                                 fi_id  type_code\n",
       "0  00004234  2e8b0410-a561-4914-9185-9ef49ff57067          0\n",
       "1  00004234  2e8b0410-a561-4914-9185-9ef49ff57067          5\n",
       "2  00004234  2870e8d7-8449-47a1-8224-747cdc105b74          0\n",
       "3  00004234  2870e8d7-8449-47a1-8224-747cdc105b74          1\n",
       "4  00004234  b3c5a7a6-6572-4a24-b6bf-4b4760241254          0"
      ]
     },
     "execution_count": 166,
     "metadata": {},
     "output_type": "execute_result"
    }
   ],
   "source": [
    "allowed_fi_df = pd.DataFrame(allowed_fis, columns=['emp_id', 'fi_id', 'type_code'])\n",
    "allowed_fi_df.head()"
   ]
  },
  {
   "cell_type": "code",
   "execution_count": 167,
   "id": "b858fd3f",
   "metadata": {},
   "outputs": [],
   "source": [
    "allowed_fi_df.to_csv(f'{data_directory}{prefix}allowed_fi.csv', header=False, index=False)"
   ]
  },
  {
   "cell_type": "markdown",
   "id": "114da6dd",
   "metadata": {},
   "source": [
    "# Trades"
   ]
  },
  {
   "cell_type": "markdown",
   "id": "3d2223d0",
   "metadata": {},
   "source": [
    "Add trades from first_price and generate missing data randomly"
   ]
  },
  {
   "cell_type": "code",
   "execution_count": 177,
   "id": "c87d7067",
   "metadata": {
    "scrolled": false
   },
   "outputs": [
    {
     "data": {
      "text/html": [
       "<div>\n",
       "<style scoped>\n",
       "    .dataframe tbody tr th:only-of-type {\n",
       "        vertical-align: middle;\n",
       "    }\n",
       "\n",
       "    .dataframe tbody tr th {\n",
       "        vertical-align: top;\n",
       "    }\n",
       "\n",
       "    .dataframe thead th {\n",
       "        text-align: right;\n",
       "    }\n",
       "</style>\n",
       "<table border=\"1\" class=\"dataframe\">\n",
       "  <thead>\n",
       "    <tr style=\"text-align: right;\">\n",
       "      <th></th>\n",
       "      <th>TICKER</th>\n",
       "      <th>ACTION</th>\n",
       "      <th>SHARES</th>\n",
       "      <th>LEVERAGE</th>\n",
       "      <th>PRICE</th>\n",
       "    </tr>\n",
       "  </thead>\n",
       "  <tbody>\n",
       "    <tr>\n",
       "      <th>0</th>\n",
       "      <td>META</td>\n",
       "      <td>B</td>\n",
       "      <td>20001</td>\n",
       "      <td>1.0</td>\n",
       "      <td>912.11</td>\n",
       "    </tr>\n",
       "    <tr>\n",
       "      <th>1</th>\n",
       "      <td>DHY</td>\n",
       "      <td>B</td>\n",
       "      <td>401</td>\n",
       "      <td>2.1</td>\n",
       "      <td>2.14</td>\n",
       "    </tr>\n",
       "    <tr>\n",
       "      <th>2</th>\n",
       "      <td>FAX</td>\n",
       "      <td>B</td>\n",
       "      <td>2440</td>\n",
       "      <td>3.3</td>\n",
       "      <td>3.28</td>\n",
       "    </tr>\n",
       "    <tr>\n",
       "      <th>3</th>\n",
       "      <td>DSU</td>\n",
       "      <td>S</td>\n",
       "      <td>99393</td>\n",
       "      <td>4.0</td>\n",
       "      <td>92.11</td>\n",
       "    </tr>\n",
       "    <tr>\n",
       "      <th>4</th>\n",
       "      <td>XOM</td>\n",
       "      <td>B</td>\n",
       "      <td>266</td>\n",
       "      <td>1.0</td>\n",
       "      <td>213.22</td>\n",
       "    </tr>\n",
       "  </tbody>\n",
       "</table>\n",
       "</div>"
      ],
      "text/plain": [
       "  TICKER ACTION  SHARES  LEVERAGE   PRICE\n",
       "0   META      B   20001       1.0  912.11\n",
       "1    DHY      B     401       2.1    2.14\n",
       "2    FAX      B    2440       3.3    3.28\n",
       "3    DSU      S   99393       4.0   92.11\n",
       "4    XOM      B     266       1.0  213.22"
      ]
     },
     "execution_count": 177,
     "metadata": {},
     "output_type": "execute_result"
    }
   ],
   "source": [
    "in_trades_df.head()"
   ]
  },
  {
   "cell_type": "code",
   "execution_count": 174,
   "id": "ab9fa918",
   "metadata": {},
   "outputs": [],
   "source": [
    "trades = []\n",
    "for i in range(len(in_trades_df)):\n",
    "    row = in_trades_df.iloc[i]\n",
    "    ticker, action, shares, leverage, price = row\n",
    "    trades.append([\n",
    "        str(uuid.uuid4())                                            #trade_id (generate new id)\n",
    "        ,trader_df['emp_id'].iat[random.randrange(len(trader_df))] #emp_id (choose random)\n",
    "        ,stocks_df[stocks_df['ticker'] == ticker]['fi_id'].iat[0]    #fi_id (lookup fi_id from ticker)\n",
    "        ,cp_df['guid'].iat[random.randrange(len(cp_df))]             #counterparty_id (choose random from available)\n",
    "        ,f'2022-{str(random.randrange(1, 4)).zfill(2)}-{str(random.randrange(1, 29)).zfill(2)} 14:30:00' #trade_dt (generate randomly) format YYYY-MM-DD hh:mm:ss\n",
    "        ,action                                                      #action\n",
    "        ,shares                                                      #quantity\n",
    "        ,leverage                                                    #leverage\n",
    "        ,price                                                       #price\n",
    "        ,'USD'                                                       #currency_iso\n",
    "        ,0                                                           #margin \n",
    "        ,0                                                           #fees\n",
    "        ,\"2022-04-14 16:00:00\"                                       #insert_dt (will be auto generated by mysql)\n",
    "        ,None                                                        #amended_dt (optional)\n",
    "    ])"
   ]
  },
  {
   "cell_type": "code",
   "execution_count": 175,
   "id": "2c512d17",
   "metadata": {},
   "outputs": [
    {
     "data": {
      "text/html": [
       "<div>\n",
       "<style scoped>\n",
       "    .dataframe tbody tr th:only-of-type {\n",
       "        vertical-align: middle;\n",
       "    }\n",
       "\n",
       "    .dataframe tbody tr th {\n",
       "        vertical-align: top;\n",
       "    }\n",
       "\n",
       "    .dataframe thead th {\n",
       "        text-align: right;\n",
       "    }\n",
       "</style>\n",
       "<table border=\"1\" class=\"dataframe\">\n",
       "  <thead>\n",
       "    <tr style=\"text-align: right;\">\n",
       "      <th></th>\n",
       "      <th>trade_id</th>\n",
       "      <th>emp_id</th>\n",
       "      <th>fi_id</th>\n",
       "      <th>counterparty_id</th>\n",
       "      <th>trade_dt</th>\n",
       "      <th>action</th>\n",
       "      <th>quantity</th>\n",
       "      <th>leverage</th>\n",
       "      <th>price</th>\n",
       "      <th>currency_iso</th>\n",
       "      <th>margin</th>\n",
       "      <th>fees</th>\n",
       "      <th>insert_dt</th>\n",
       "      <th>amended_dt</th>\n",
       "    </tr>\n",
       "  </thead>\n",
       "  <tbody>\n",
       "    <tr>\n",
       "      <th>0</th>\n",
       "      <td>d15fb6b8-56d0-41bb-9536-a7ae400170f4</td>\n",
       "      <td>00006203</td>\n",
       "      <td>91e798c3-7194-42dc-b594-9b62715d4fa6</td>\n",
       "      <td>9670d333-1ad5-4c42-b2bf-9dd4f62606ac</td>\n",
       "      <td>2022-02-15 14:30:00</td>\n",
       "      <td>B</td>\n",
       "      <td>20001</td>\n",
       "      <td>1.0</td>\n",
       "      <td>912.11</td>\n",
       "      <td>USD</td>\n",
       "      <td>0</td>\n",
       "      <td>0</td>\n",
       "      <td>2022-04-14 16:00:00</td>\n",
       "      <td>None</td>\n",
       "    </tr>\n",
       "    <tr>\n",
       "      <th>1</th>\n",
       "      <td>89ea4947-f5d1-442b-a2a5-1aa9f25091e7</td>\n",
       "      <td>00002122</td>\n",
       "      <td>8839e632-e62e-44d4-bfb8-8a5fec7b0e92</td>\n",
       "      <td>642afcee-e264-4005-834b-c8dbeb71b588</td>\n",
       "      <td>2022-02-22 14:30:00</td>\n",
       "      <td>B</td>\n",
       "      <td>401</td>\n",
       "      <td>2.1</td>\n",
       "      <td>2.14</td>\n",
       "      <td>USD</td>\n",
       "      <td>0</td>\n",
       "      <td>0</td>\n",
       "      <td>2022-04-14 16:00:00</td>\n",
       "      <td>None</td>\n",
       "    </tr>\n",
       "    <tr>\n",
       "      <th>2</th>\n",
       "      <td>e732fcf3-b4bc-45ce-8afd-b7ad9c143d27</td>\n",
       "      <td>00007534</td>\n",
       "      <td>38e31afa-2218-4e61-88f2-f9d9ae5f98ee</td>\n",
       "      <td>14305fb8-63d6-4133-b04b-f2bb18dde8d2</td>\n",
       "      <td>2022-02-15 14:30:00</td>\n",
       "      <td>B</td>\n",
       "      <td>2440</td>\n",
       "      <td>3.3</td>\n",
       "      <td>3.28</td>\n",
       "      <td>USD</td>\n",
       "      <td>0</td>\n",
       "      <td>0</td>\n",
       "      <td>2022-04-14 16:00:00</td>\n",
       "      <td>None</td>\n",
       "    </tr>\n",
       "    <tr>\n",
       "      <th>3</th>\n",
       "      <td>85d0c0ec-dca7-4a14-bff3-a51373b024be</td>\n",
       "      <td>00009313</td>\n",
       "      <td>d6437e9c-c7fb-4549-a1dd-13232d684db0</td>\n",
       "      <td>642afcee-e264-4005-834b-c8dbeb71b588</td>\n",
       "      <td>2022-03-17 14:30:00</td>\n",
       "      <td>S</td>\n",
       "      <td>99393</td>\n",
       "      <td>4.0</td>\n",
       "      <td>92.11</td>\n",
       "      <td>USD</td>\n",
       "      <td>0</td>\n",
       "      <td>0</td>\n",
       "      <td>2022-04-14 16:00:00</td>\n",
       "      <td>None</td>\n",
       "    </tr>\n",
       "    <tr>\n",
       "      <th>4</th>\n",
       "      <td>f597643c-aa81-44b7-ac0a-15d949abe232</td>\n",
       "      <td>00006068</td>\n",
       "      <td>1d075d23-2b3d-4375-8f7a-ecfabb3aa4cd</td>\n",
       "      <td>76e2aa4f-f11c-4cff-a602-b5fa92301aef</td>\n",
       "      <td>2022-02-24 14:30:00</td>\n",
       "      <td>B</td>\n",
       "      <td>266</td>\n",
       "      <td>1.0</td>\n",
       "      <td>213.22</td>\n",
       "      <td>USD</td>\n",
       "      <td>0</td>\n",
       "      <td>0</td>\n",
       "      <td>2022-04-14 16:00:00</td>\n",
       "      <td>None</td>\n",
       "    </tr>\n",
       "  </tbody>\n",
       "</table>\n",
       "</div>"
      ],
      "text/plain": [
       "                               trade_id    emp_id  \\\n",
       "0  d15fb6b8-56d0-41bb-9536-a7ae400170f4  00006203   \n",
       "1  89ea4947-f5d1-442b-a2a5-1aa9f25091e7  00002122   \n",
       "2  e732fcf3-b4bc-45ce-8afd-b7ad9c143d27  00007534   \n",
       "3  85d0c0ec-dca7-4a14-bff3-a51373b024be  00009313   \n",
       "4  f597643c-aa81-44b7-ac0a-15d949abe232  00006068   \n",
       "\n",
       "                                  fi_id                       counterparty_id  \\\n",
       "0  91e798c3-7194-42dc-b594-9b62715d4fa6  9670d333-1ad5-4c42-b2bf-9dd4f62606ac   \n",
       "1  8839e632-e62e-44d4-bfb8-8a5fec7b0e92  642afcee-e264-4005-834b-c8dbeb71b588   \n",
       "2  38e31afa-2218-4e61-88f2-f9d9ae5f98ee  14305fb8-63d6-4133-b04b-f2bb18dde8d2   \n",
       "3  d6437e9c-c7fb-4549-a1dd-13232d684db0  642afcee-e264-4005-834b-c8dbeb71b588   \n",
       "4  1d075d23-2b3d-4375-8f7a-ecfabb3aa4cd  76e2aa4f-f11c-4cff-a602-b5fa92301aef   \n",
       "\n",
       "              trade_dt action  quantity  leverage   price currency_iso  \\\n",
       "0  2022-02-15 14:30:00      B     20001       1.0  912.11          USD   \n",
       "1  2022-02-22 14:30:00      B       401       2.1    2.14          USD   \n",
       "2  2022-02-15 14:30:00      B      2440       3.3    3.28          USD   \n",
       "3  2022-03-17 14:30:00      S     99393       4.0   92.11          USD   \n",
       "4  2022-02-24 14:30:00      B       266       1.0  213.22          USD   \n",
       "\n",
       "   margin  fees            insert_dt amended_dt  \n",
       "0       0     0  2022-04-14 16:00:00       None  \n",
       "1       0     0  2022-04-14 16:00:00       None  \n",
       "2       0     0  2022-04-14 16:00:00       None  \n",
       "3       0     0  2022-04-14 16:00:00       None  \n",
       "4       0     0  2022-04-14 16:00:00       None  "
      ]
     },
     "execution_count": 175,
     "metadata": {},
     "output_type": "execute_result"
    }
   ],
   "source": [
    "trades_df = pd.DataFrame(trades, columns=['trade_id', 'emp_id', 'fi_id', 'counterparty_id', 'trade_dt', 'action', 'quantity', 'leverage', 'price', 'currency_iso', 'margin', 'fees', 'insert_dt', 'amended_dt'])\n",
    "trades_df.head()"
   ]
  },
  {
   "cell_type": "code",
   "execution_count": 176,
   "id": "5fc81dde",
   "metadata": {},
   "outputs": [],
   "source": [
    "trades_df.to_csv(f'{data_directory}{prefix}trades.csv', header=False, index=False, na_rep='NULL')"
   ]
  },
  {
   "cell_type": "code",
   "execution_count": null,
   "id": "b0deffea",
   "metadata": {},
   "outputs": [],
   "source": []
  }
 ],
 "metadata": {
  "kernelspec": {
   "display_name": "Python 3 (ipykernel)",
   "language": "python",
   "name": "python3"
  },
  "language_info": {
   "codemirror_mode": {
    "name": "ipython",
    "version": 3
   },
   "file_extension": ".py",
   "mimetype": "text/x-python",
   "name": "python",
   "nbconvert_exporter": "python",
   "pygments_lexer": "ipython3",
   "version": "3.9.10"
  }
 },
 "nbformat": 4,
 "nbformat_minor": 5
}
